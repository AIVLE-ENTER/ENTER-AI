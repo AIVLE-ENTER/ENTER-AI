{
 "cells": [
  {
   "cell_type": "code",
   "execution_count": 1,
   "metadata": {},
   "outputs": [],
   "source": [
    "import yaml\n",
    "from addict import Dict"
   ]
  },
  {
   "cell_type": "code",
   "execution_count": 2,
   "metadata": {},
   "outputs": [
    {
     "name": "stdout",
     "output_type": "stream",
     "text": [
      "{'llama': {'params': {'top_k': 1, 'max_new_tokens': 2, 'num_return_sequences': 1}, 'templates': {'crawl': {'company_info': '', 'product_info': '', 'system': '', 'prompt': '', 'company_info_default': 'company info: Our company is called KT, and we primarily provide internet and telecommunications services. \\nOur main competitors are SK Telecom and LG U+.\\n', 'product_info_default': 'product info: \"KT Internet, KT GiGA Internet, and KT 10GiGA Internet are wired internet services provided by KT. They hold the top position in the market with a 40.8% market share.\\n\\nAs for the product offerings:\\n\\nKT Internet Super Premium offers a maximum speed of 10Gbps in both upload and download, using FTTH optical LAN technology.\\nKT Internet Premium Plus provides a maximum speed of 5Gbps in both directions, also utilizing FTTH technology.\\nKT Internet Premium offers speeds of up to 2.5Gbps in both upload and download, using FTTH optical LAN.\\nKT Internet Essence delivers a maximum bidirectional speed of 1Gbps via optical LAN.\\nKT Internet Basic offers speeds of up to 500Mbps in both directions, making it one of the fastest gigabit internet options.\\nKT Internet Slim Plus offers the most budget-friendly plan among gigabit internet options, with speeds limited to 200Mbps in both upload and download.\\nKT Internet Slim uses FTTH technology to provide a maximum bidirectional speed of 100Mbps.\"\\n', 'prompt_default': 'Does the input text seem to be talking about KT company or products?\\n', 'system_default': \"You must distinguish among South Korea's mobile telecommunication companies (skt, kt, lg u+).\\nYou must answer based on your judgment according to the question.\\nOnly 'yes' or 'no' responses are acceptable. Any other response will not be tolerated.\\n\"}}}, 'chatgpt': {'params': {'model': 'gpt-3.5-turbo'}, 'templates': {'conversation': {'meta_template': '내용 : {page_content}, 날짜 : {날짜}\\n', 'prompt': '', 'system': '', 'prompt_default': 'Given the following conversation and a follow up Input, rephrase the follow up Input to be a standalone Input, in its original language.\\n', 'system_default': 'Chat History:{chat_history}ß\\nFollow Up Input:{question}\\nStandalone question:\\n'}, 'report': {'system': '', 'prompt': '', 'prompt_default': \"Develop a analysis report about our cafe, Structure of report is follwing format\\nExecutive Summary: Provide a concise overview of the report's findings and recommendations.  \\nStudy Introduction: Introduce the company and its background, including its mission, vision, and core values.\\nMethodology: Explain the research methods, data sources, and analytical tools used.\\nReview of Statistics: Give a detailed analysis of each component, including market analysis, SWOT analysis, financial analysis, etc.\\nConclusion: Give a summary of the main findings and insights derived from the analysis\\nReferences: Citations of the sources used in the report, ensuring credibility and transparency\\n\\nHere is a list about data our company {context}\\n\", 'system_default': 'Rephrase the conversation and the follow up query to be a standalone query\\nand add the elements of swot analysis, 5 forces model, BCG matrix, P.E.S.T.E.L analysis, 3C analysis and Business Model Canvas as the additional information.\\nconversation: {chat_history}\\noutput must be korean\\n'}, 'document': {'prompt': '', 'prompt_default': '내용 : {page_content}, 날짜 : {날짜}\\n'}}}, 'embedding': {'params': 'None'}}\n"
     ]
    }
   ],
   "source": [
    "with open('configs.yaml', 'r') as file:\n",
    "    data = Dict(yaml.safe_load(file))\n",
    "\n",
    "# 데이터 출력\n",
    "print(data)"
   ]
  },
  {
   "cell_type": "code",
   "execution_count": 3,
   "metadata": {},
   "outputs": [
    {
     "data": {
      "text/plain": [
       "{}"
      ]
     },
     "execution_count": 3,
     "metadata": {},
     "output_type": "execute_result"
    }
   ],
   "source": [
    "data['company_info']"
   ]
  },
  {
   "cell_type": "code",
   "execution_count": 5,
   "metadata": {},
   "outputs": [],
   "source": [
    "from configs import ParamConfig"
   ]
  },
  {
   "cell_type": "code",
   "execution_count": 6,
   "metadata": {},
   "outputs": [],
   "source": [
    "\n",
    "params = ParamConfig()\n",
    "\n",
    "kwargs = params.load('/home/wsl_han/aivle_project/remote/ENTER-AI/project/utils/configs copy.yaml')\n",
    "\n",
    "config = params.load()\n",
    "for key,item in kwargs.items():\n",
    "    config[key] = item\n",
    "    \n",
    "params.save(config, '/home/wsl_han/aivle_project/remote/ENTER-AI/project/utils', endpoint='configs copy 2.yaml')\n",
    "# config\n",
    "    "
   ]
  },
  {
   "cell_type": "code",
   "execution_count": 6,
   "metadata": {},
   "outputs": [
    {
     "data": {
      "text/plain": [
       "'스펀지밥\\n'"
      ]
     },
     "execution_count": 6,
     "metadata": {},
     "output_type": "execute_result"
    }
   ],
   "source": [
    "params.load().chatgpt.templates.conversation.system_default"
   ]
  },
  {
   "cell_type": "code",
   "execution_count": null,
   "metadata": {},
   "outputs": [],
   "source": []
  }
 ],
 "metadata": {
  "kernelspec": {
   "display_name": "aivle_project",
   "language": "python",
   "name": "python3"
  },
  "language_info": {
   "codemirror_mode": {
    "name": "ipython",
    "version": 3
   },
   "file_extension": ".py",
   "mimetype": "text/x-python",
   "name": "python",
   "nbconvert_exporter": "python",
   "pygments_lexer": "ipython3",
   "version": "3.10.13"
  }
 },
 "nbformat": 4,
 "nbformat_minor": 2
}
